{
 "cells": [
  {
   "cell_type": "markdown",
   "metadata": {},
   "source": [
    "### **Embeddings function from bio_embeddings**"
   ]
  },
  {
   "cell_type": "code",
   "execution_count": null,
   "metadata": {},
   "outputs": [],
   "source": [
    "import bio_embeddings\n",
    "from bio_embeddings.embed import ProtTransBertBFDEmbedder\n",
    "\n",
    "def give_bioembeddings(protein_list):\n",
    "    \"\"\"\n",
    "    List(str): Takes list of fasta sequences of protein \n",
    "\n",
    "    returns:\n",
    "    List of protein embeddings. \n",
    "    \"\"\"\n",
    "    embedder = ProtTransBertBFDEmbedder()\n",
    "    embedding_list = []\n",
    "    for protein in protein_list:\n",
    "        embedding_protein = embedder.embed(protein)\n",
    "        embedding_per_protein = embedder.reduce_per_protein(embedding_protein)\n",
    "        embedding_list.append(embedding_per_protein)\n",
    "    print(\"\\nEmbedding for this batch is done\")    \n",
    "    return embedding_list"
   ]
  },
  {
   "cell_type": "markdown",
   "metadata": {},
   "source": [
    "#### Load list of fasta sequences"
   ]
  },
  {
   "cell_type": "code",
   "execution_count": null,
   "metadata": {},
   "outputs": [],
   "source": [
    "fasta_ls = []            # -> Load your list of fasta sequences here\n",
    "\n",
    "embeds = give_bioembeddings(fasta_ls)"
   ]
  },
  {
   "cell_type": "markdown",
   "metadata": {},
   "source": [
    "#### Save embeddings in a txt file"
   ]
  },
  {
   "cell_type": "code",
   "execution_count": null,
   "metadata": {},
   "outputs": [],
   "source": [
    "# Saving the embeddings in text file\n",
    "\n",
    "with open('protein_embeddings.txt', 'w+') as f:\n",
    "    for embed in embeds:\n",
    "        for e in embed:\n",
    "            f.write(str(e)+'\\t')\n",
    "        f.write('\\n')\n"
   ]
  }
 ],
 "metadata": {
  "language_info": {
   "name": "python"
  }
 },
 "nbformat": 4,
 "nbformat_minor": 2
}
